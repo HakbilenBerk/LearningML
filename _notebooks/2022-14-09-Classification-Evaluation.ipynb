{
  "nbformat": 4,
  "nbformat_minor": 0,
  "metadata": {
    "colab": {
      "provenance": [],
      "collapsed_sections": [],
      "toc_visible": true
    },
    "kernelspec": {
      "name": "python3",
      "display_name": "Python 3"
    },
    "language_info": {
      "name": "python"
    }
  },
  "cells": [
    {
      "cell_type": "markdown",
      "source": [
        "# Evaluation Methods for Classification Problems\n",
        "\n",
        "> In this post, we will have a look at some evaluation metrics for classification problems in machine learning.\n",
        "\n",
        "- toc: true\n",
        "- badges: true\n",
        "- comments: true\n",
        "- categories: [jupyter]\n",
        "- image: images/classification_evaluation_image.png"
      ],
      "metadata": {
        "id": "j2uo-Quk0R92"
      }
    },
    {
      "cell_type": "markdown",
      "source": [
        "## Confusion Matrix\n",
        "\n",
        "\n"
      ],
      "metadata": {
        "id": "nNe3sDTJnCel"
      }
    },
    {
      "cell_type": "markdown",
      "source": [
        "\n",
        "\n",
        "\n",
        "Confusion Matrix is a table where we can clearly see the predicted categories and actual categories. The confusion matrix for a binary classification looks like this:\n",
        "\n",
        "![Binary Confusion Matrix](https://drive.google.com/uc?export=view&id=109HQTfPNtzPb0t9BRdVpqv6hfU4epn-d)\n",
        "\n",
        "\n",
        "**True positives (TP):** Predicted positive and are actually positive.\n",
        "\n",
        "**False positives (FP):** Predicted positive and are actually negative.\n",
        "\n",
        "**True negatives (TN):** Predicted negative and are actually negative.\n",
        "\n",
        "**False negatives (FN):** Predicted negative and are actually positive.\n",
        "\n",
        "\n"
      ],
      "metadata": {
        "id": "FLapTwOl465r"
      }
    },
    {
      "cell_type": "markdown",
      "source": [
        "To calculate the confusion matrix, we will be using the ConfusionMatrixDisplay class from the sklearn library. \n",
        "\n",
        "\n",
        "[Documentation for ConfusionMatrixDisplay](https://scikit-learn.org/stable/modules/generated/sklearn.metrics.ConfusionMatrixDisplay.html)"
      ],
      "metadata": {
        "id": "45kaNQtxm0FF"
      }
    },
    {
      "cell_type": "code",
      "source": [
        "from sklearn.datasets import load_breast_cancer\n",
        "from sklearn.model_selection import train_test_split\n",
        "from sklearn.metrics import ConfusionMatrixDisplay\n",
        "from sklearn.linear_model import LogisticRegression\n",
        "\n",
        "X,y = load_breast_cancer(return_X_y = True)\n",
        "\n",
        "X_train, X_test, y_train, y_test = train_test_split(X, y, test_size=0.2, random_state=42)\n",
        "\n",
        "clf = LogisticRegression(max_iter=10000)\n",
        "clf.fit(X_train, y_train)\n",
        "\n",
        "ConfusionMatrixDisplay.from_estimator(clf, X_test, y_test, display_labels = ['malignant', 'benign'])\n"
      ],
      "metadata": {
        "colab": {
          "base_uri": "https://localhost:8080/",
          "height": 300
        },
        "id": "OWmy38CXMBvS",
        "outputId": "e4be614f-ca84-4a6e-d4ee-c9bd8f4e08f2"
      },
      "execution_count": null,
      "outputs": [
        {
          "output_type": "execute_result",
          "data": {
            "text/plain": [
              "<sklearn.metrics._plot.confusion_matrix.ConfusionMatrixDisplay at 0x7fc220ad5d10>"
            ]
          },
          "metadata": {},
          "execution_count": 1
        },
        {
          "output_type": "display_data",
          "data": {
            "text/plain": [
              "<Figure size 432x288 with 2 Axes>"
            ],
            "image/png": "[encoded data removed]"
          },
          "metadata": {
            "needs_background": "light"
          }
        }
      ]
    },
    {
      "cell_type": "markdown",
      "source": [
        " Depending on some problems, it can be very important to see the number of false negatives or false positives. This is where the confusion matrix comes in very handy because it does exactly that.\n",
        " \n",
        "In this case, we have the precision matrix for the cancer dataset.  We can see that the number of true positives is 39. That means the model was able to identify 39 samples with cancer correctly. \n",
        "\n",
        "However, we also have 1 false positive (the patient actually does not have cancer, but the model says the patient has cancer). False positives in this case may not be so critical, since the additional medical controls will later reveal that the patient does not have cancer (except for a few days of difficult days for the patient...).\n",
        "\n",
        "What is here very critical is the 4 patients who were predicted as cancer-free but they do actually have cancer (false negatives). This is a case we do not want to have at all, since the lives of cancer patients are at stake here. Therefore, for this problem, we would aim for least possible number of false negatives. For another problem, reducing the number of false positives could be more important. This is why the confusion matrix is very important when it comes to classification problems."
      ],
      "metadata": {
        "id": "eEfV-7K6Tccc"
      }
    },
    {
      "cell_type": "markdown",
      "source": [
        "### Confusion Matrix for Multi-class Classification"
      ],
      "metadata": {
        "id": "s-3X2oo1Xe8p"
      }
    },
    {
      "cell_type": "markdown",
      "source": [
        "\n",
        "\n",
        "The confusion matrix becomes larger as we move form a binary classification problem to a multi-class classification problem. This is how a confusion matrix for a multi-class problem would look like:\n",
        "\n",
        "![Multi-class Confusion Matrix](https://drive.google.com/uc?export=view&id=1Sq5eOUWFVvAqMQo9C8FUvEGMdWnNZvwr)\n",
        "\n",
        "The size of the confusion matrix is same as the number of target categories. One big advantage of confusion matrix is that, it allows us to see how many samples of which class were misclassified, and which predicted class was confused with which actual class.\n",
        "\n",
        "\n",
        " "
      ],
      "metadata": {
        "id": "XM5zzmo_SWUj"
      }
    },
    {
      "cell_type": "markdown",
      "source": [
        "## Accuracy\n",
        "\n",
        "Accuracy is a measure of how often the classifier makes a correct prediction. It is the ratio of total correct predictions to the total predictions.\n",
        "\n",
        "$$ \\text{Accuracy} = \\frac{\\text{TP + TN}}{TP + TN + FP + FN} $$\n",
        "\n",
        "Accuracy is a easy to understand metric and can be very useful when the dataset is balanced. However, it can be misleading when evaluating imbalanced datasets. When target classes in dataset have a large differences in terms of samples, it is an **imbalanced dataset**. Accuracy is not the best metric to use when dealing with imbalanced datasets. Let's have a look at the example below.\n",
        "\n",
        "![Accuracy for Imbalanced Dataset](https://drive.google.com/uc?export=view&id=1KICPkgT3U9FQ5FDsnCNvSVLwtDRBBH4z)\n",
        "\n",
        "When we look at the confusion matrix carefully, we see that we have only 25 patients who actually have cancer, in comparison to 375 who do not actually have cancer. The model performs pretty well with an accuracy of 0.95, or is it? Not really, the model is pretty good at predicting the patients who do not have cancer, but we can not say the same for the patients who actually have cancer (only predicted 10 out of 25 who actually have cancer correctly). Because the accuracy only considers the ratio of correct predictions to total predictions, the most frequent class performance dominates the metric, leading to misleading interpretation of model performance when we have an imbalanced dataset.\n"
      ],
      "metadata": {
        "id": "ofqkVi78nGKd"
      }
    },
    {
      "cell_type": "markdown",
      "source": [
        "To calculate accuracy we will be using the accuracy_score function from the sklearn library.\n",
        "\n",
        "\n",
        "[Documentation for accuracy_score()](https://scikit-learn.org/stable/modules/generated/sklearn.metrics.accuracy_score.html)"
      ],
      "metadata": {
        "id": "KOEb_tQQnVcl"
      }
    },
    {
      "cell_type": "code",
      "source": [
        "# first we need to make some predictions to be able to calculate our metrics\n",
        "y_pred = clf.predict(X_test)\n",
        "\n",
        "#calling the accuracy_score function from metrics\n",
        "accuracy_score = metrics.accuracy_score(y_test, y_pred)\n",
        "\n",
        "print(\"Accuracy score is: {:.2f}\".format(accuracy_score))\n"
      ],
      "metadata": {
        "colab": {
          "base_uri": "https://localhost:8080/"
        },
        "id": "9CG9us3Tdk3Z",
        "outputId": "5933eb7d-39b2-48e0-b401-70b7865080ba"
      },
      "execution_count": null,
      "outputs": [
        {
          "output_type": "stream",
          "name": "stdout",
          "text": [
            "Accuracy score is: 0.96\n"
          ]
        }
      ]
    },
    {
      "cell_type": "code",
      "source": [
        "# calculating the accuracy manually\n",
        "correct_predictions = [pred for i,pred in enumerate(y_pred) if pred == y_test[i]]\n",
        "\n",
        "accuracy_manual = len(correct_predictions)/len(y_pred)\n",
        "\n",
        "print(\"Accuracy score is: {:.2f}\".format(accuracy_manual))"
      ],
      "metadata": {
        "colab": {
          "base_uri": "https://localhost:8080/"
        },
        "id": "4nV2qPIxhwEY",
        "outputId": "26d589ac-2cae-4974-e375-ad8dff71107c"
      },
      "execution_count": null,
      "outputs": [
        {
          "output_type": "stream",
          "name": "stdout",
          "text": [
            "Accuracy score is: 0.96\n"
          ]
        }
      ]
    },
    {
      "cell_type": "markdown",
      "source": [
        "## Precision\n",
        "\n",
        "Precision is the measure of the ratio of true positive predictions to the total positive predictions of the model.\n",
        "Precision is a useful metric in cases where false positives are more significant than false negatives. SUch cases can be recommendation systems where a false positives can lead to customer churn which in turn reduces business success.\n",
        "\n",
        "$$ \\text{Precision} = \\frac{\\text{TP}}{TP + FP} $$\n",
        "\n",
        "![Accuracy for Imbalanced Dataset](https://drive.google.com/uc?export=view&id=1pHlSP8Lft6oy8RKAqqodVDZv2vJvCKPc)\n",
        "\n",
        "\n",
        "The precision from our previous example would be:\n",
        "$$ \\text{Precision} = \\frac{10}{10 + 5} = 0.667 $$ \n",
        "\n",
        "Not as good as the accuracy right? \n",
        "In this case false negatives are more important than false positives, we do not want to misdiagnose any cancer patient as negative if they actually have cancer! We also a have a metric for that, Recall!\n"
      ],
      "metadata": {
        "id": "uPqzCHRSnI-W"
      }
    },
    {
      "cell_type": "markdown",
      "source": [
        "To calculate accuracy we will be using the precision_score function from the sklearn library.\n",
        "\n",
        "\n",
        "[Documentation for precision_score()](https://scikit-learn.org/stable/modules/generated/sklearn.metrics.precision_score.html#sklearn.metrics.precision_score)"
      ],
      "metadata": {
        "id": "Z-DMlYzhoWSS"
      }
    },
    {
      "cell_type": "code",
      "source": [
        "#calling the precision_score function from metrics\n",
        "precision_score = metrics.precision_score(y_test, y_pred)\n",
        "\n",
        "print(\"Precision score is: {:.2f}\".format(precision_score))"
      ],
      "metadata": {
        "colab": {
          "base_uri": "https://localhost:8080/"
        },
        "id": "QAUlQvdVngVi",
        "outputId": "5bc23ad4-6a48-479b-c4ef-c0c6dab72e72"
      },
      "execution_count": null,
      "outputs": [
        {
          "output_type": "stream",
          "name": "stdout",
          "text": [
            "Precision score is: 0.95\n"
          ]
        }
      ]
    },
    {
      "cell_type": "code",
      "source": [
        "#calculating precision manually\n",
        "TP = [pred for i,pred in enumerate(y_pred) if (pred == y_test[i] & pred == 1)]\n",
        "TP_FP = [pred for i,pred in enumerate(y_pred) if (pred == 1)]\n",
        "\n",
        "precision_manual = len(TP) / len(TP_FP)\n",
        "\n",
        "print(\"Precision score is: {:.2f}\".format(precision_manual))"
      ],
      "metadata": {
        "colab": {
          "base_uri": "https://localhost:8080/"
        },
        "id": "eupRbCC2kWR_",
        "outputId": "342950b1-1e85-431f-e911-e2019be19376"
      },
      "execution_count": null,
      "outputs": [
        {
          "output_type": "stream",
          "name": "stdout",
          "text": [
            "Precision score is: 0.95\n"
          ]
        }
      ]
    },
    {
      "cell_type": "markdown",
      "source": [
        "## Recall\n",
        "\n",
        "Recall is the ratio of how many of the positive cases the model was able to correctly predict. Recall is a useful metric when false negatives are more significant than false positives. Like we mentioned, it is, for example, important in medical cases (like we have with cancer dataset) where we do not want to miss any actual positives whereas false alarms (false positives) can be considered less important.\n",
        "\n",
        "\n",
        "$$ \\text{Recall} = \\frac{\\text{TP}}{TP + FN} $$\n",
        "\n",
        "![Accuracy for Imbalanced Dataset](https://drive.google.com/uc?export=view&id=1yjal9WeFppfD8_9Qs7eLYSoBKztSItGC)\n",
        "\n",
        "\n",
        "The recall from our previous example would be:\n",
        "$$ \\text{Recall} = \\frac{10}{10 + 15} = 0.4 $$\n",
        "\n",
        "As we can see our recall is much morse compared to accuracy and precision, which, in this case is actually the most important metric. Here we can clearly see how using accuracy for imbalanced datasets can be very misleading."
      ],
      "metadata": {
        "id": "dpbRGv5kTtdH"
      }
    },
    {
      "cell_type": "markdown",
      "source": [
        "To calculate accuracy we will be using the recall_score function from the sklearn library.\n",
        "\n",
        "\n",
        "[Documentation for recall_score()](https://scikit-learn.org/stable/modules/generated/sklearn.metrics.recall_score.html#sklearn.metrics.recall_score)"
      ],
      "metadata": {
        "id": "cpl1UtgfoevO"
      }
    },
    {
      "cell_type": "code",
      "source": [
        "#calling the recall_score function from metrics\n",
        "recall_score = metrics.recall_score(y_test, y_pred)\n",
        "\n",
        "print(\"Recall score is: {:.2f}\".format(recall_score))"
      ],
      "metadata": {
        "colab": {
          "base_uri": "https://localhost:8080/"
        },
        "id": "fQp1Cv4Qn9HR",
        "outputId": "d10917e2-4b63-46ce-bc85-2830f1b920a0"
      },
      "execution_count": null,
      "outputs": [
        {
          "output_type": "stream",
          "name": "stdout",
          "text": [
            "Recall score is: 0.99\n"
          ]
        }
      ]
    },
    {
      "cell_type": "code",
      "source": [
        "#calculating recall manually\n",
        "TP = [pred for i,pred in enumerate(y_pred) if (pred == y_test[i] & pred == 1)]\n",
        "TP_FN = [pred for i,pred in enumerate(y_pred) if (y_test[i] == 1)]\n",
        "\n",
        "recall_manual = len(TP) / len(TP_FN)\n",
        "\n",
        "print(\"Precision score is: {:.2f}\".format(recall_manual))"
      ],
      "metadata": {
        "colab": {
          "base_uri": "https://localhost:8080/"
        },
        "id": "LSbx9svOl6dN",
        "outputId": "56e3c41a-0b3f-46d4-9361-6686ff0a7305"
      },
      "execution_count": null,
      "outputs": [
        {
          "output_type": "stream",
          "name": "stdout",
          "text": [
            "Precision score is: 0.99\n"
          ]
        }
      ]
    },
    {
      "cell_type": "markdown",
      "source": [
        "##F1-Score\n",
        "\n",
        "F1- score is a combination of both precision and recall. It is the harmonic mean of precision and recall and is maximum when precision is equal to recall. So when we are looking for the best of both worlds (when we have no difference of significance between false positives and false negatives) f1 is our metric.\n",
        "\n",
        "$$ \\text{F1-Score} = \\frac{2 * \\text{Precision}*\\text{Recall}}{Precision + Recall} $$\n",
        "\n",
        "The F1-score from our previous example would be:\n",
        "$$ \\text{F1-Score} = \\frac{2 *0.667*0.4}{0.667 + 0.40} = 0.5 $$\n",
        "\n",
        "F1-score penalizes the extreme values more and is an effective metric when adding more data with no effect on outcome or when we have a high number of true negatives. It is also a better option to use compared to accuracy when we are dealing with imbalanced data."
      ],
      "metadata": {
        "id": "cmt8on1mnUBv"
      }
    },
    {
      "cell_type": "markdown",
      "source": [
        "To calculate accuracy we will be using the f1_score function from the sklearn library.\n",
        "\n",
        "\n",
        "[Documentation for f1_score()](https://scikit-learn.org/stable/modules/generated/sklearn.metrics.f1_score.html#sklearn.metrics.f1_score)"
      ],
      "metadata": {
        "id": "lcNWllZlo58w"
      }
    },
    {
      "cell_type": "code",
      "source": [
        "#calling the f1_score function from metrics\n",
        "f1_score = metrics.f1_score(y_test, y_pred)\n",
        "\n",
        "print(\"F1-score is: {:.2f}\".format(f1_score))"
      ],
      "metadata": {
        "colab": {
          "base_uri": "https://localhost:8080/"
        },
        "id": "rKes8FSooNO8",
        "outputId": "196308b2-7228-42ca-a804-5704140d1f76"
      },
      "execution_count": null,
      "outputs": [
        {
          "output_type": "stream",
          "name": "stdout",
          "text": [
            "F1-score is: 0.97\n"
          ]
        }
      ]
    },
    {
      "cell_type": "code",
      "source": [
        "#calculating precision manually\n",
        "f1_manual = 2*precision_manual*recall_manual/(precision_manual + recall_manual)\n",
        "\n",
        "print(\"F1-score is: {:.2f}\".format(f1_manual))"
      ],
      "metadata": {
        "colab": {
          "base_uri": "https://localhost:8080/"
        },
        "id": "xVXGL_mgomQd",
        "outputId": "22a2afbf-51e2-4465-cbaf-0bf84808f9a7"
      },
      "execution_count": null,
      "outputs": [
        {
          "output_type": "stream",
          "name": "stdout",
          "text": [
            "F1-score is: 0.97\n"
          ]
        }
      ]
    },
    {
      "cell_type": "markdown",
      "source": [
        "## Precision-Recall Curve ( PR Curve)\n",
        "\n",
        "PR curve is a graph illustrating the change of precision values with respect to the recall value for binary classification. PR curve is plotted by calculating the precision and recall values for different thresholds for a classifier and plotting the values. Ex. for logistic regression the threshold would be the predicted probability of a prediction belonging to the positive class.\n",
        "\n",
        "It is often used in problems with imbalanced dataset. We have the precision values on the y-axis and the recall values on the x-axis. We saw in earlier examples for which use cases precision and recall metrics maybe suitable. Well, the PR curve allows us to consider both metrics and the change of one with respect to other.\n",
        "\n",
        "Considering both precision and recall can be useful when we have an imbalance of samples between the two target classes. This is specially the case, when samples of negative class ( class 0) are more than then samples of positive class (class 1). Both precision and recall do not consider the number of true negatives and focus on the correct of false prediction of the positive class."
      ],
      "metadata": {
        "id": "xaUbcV9MnOUL"
      }
    },
    {
      "cell_type": "markdown",
      "source": [
        "To plot the pr-curve for a classifier, we will be using the precision_recall_curve() function from the sklearn library.\n",
        "\n",
        "\n",
        "\n",
        "[Documentation for precision_recall_curve()](https://scikit-learn.org/stable/modules/generated/sklearn.metrics.precision_recall_curve.html)"
      ],
      "metadata": {
        "id": "H_xfhlM4qjCt"
      }
    },
    {
      "cell_type": "markdown",
      "source": [
        "We can obtain the probabilities using the predict_proba() method, and then use these probabilities to construct the PR curve. The decision threshold is usually 0.5. This means if probability is larger than 0.5, then it will be predicted as positive. "
      ],
      "metadata": {
        "id": "jRycfrWG3ov9"
      }
    },
    {
      "cell_type": "code",
      "source": [
        "from sklearn.metrics import precision_recall_curve\n",
        "import matplotlib.pyplot as plt\n",
        "%matplotlib inline\n",
        "\n",
        "probabilities = clf.predict_proba(X_test)[:,1]\n",
        "\n",
        "precision_vals,recall_vals,thresholds = precision_recall_curve(y_test, probabilities)\n",
        "\n",
        "plt.plot(recall_vals, precision_vals, label = 'PR Curve', marker='o')\n",
        "for i,val in enumerate(precision_vals):\n",
        "  if precision_vals[i] != precision_vals[-1]:\n",
        "    plt.text(recall_vals[i], val, str(round(thresholds[i],3)), fontsize=10)\n",
        "plt.axvline(x=1,ymin=0, ymax=0.95, color='r', label=\"Best Model\")\n",
        "plt.axhline(y=1, xmin=0, xmax=0.95, color='r')\n",
        "plt.xlabel('Recall')\n",
        "plt.ylabel('Precision')\n",
        "plt.legend(['PR Curve', 'Best model'], loc = 'best')\n",
        "\n",
        "plt.show()\n"
      ],
      "metadata": {
        "colab": {
          "base_uri": "https://localhost:8080/",
          "height": 279
        },
        "id": "oIdOjLQsddnA",
        "outputId": "bff285d6-e5cb-4735-ad0e-5a52f3730a5b"
      },
      "execution_count": null,
      "outputs": [
        {
          "output_type": "display_data",
          "data": {
            "text/plain": [
              "<Figure size 432x288 with 1 Axes>"
            ],
            "image/png": "[encoded data removed]"
          },
          "metadata": {
            "needs_background": "light"
          }
        }
      ]
    },
    {
      "cell_type": "markdown",
      "source": [
        "Here we have calculated the precision and recall values for each threshold and plotted them. The red lines represent what a perfect classifier would look like. Our PR curves also seems to be performing pretty well. On each marker we can also see the associated threshold probability value. We want to choose the threshold which lies closer the our red line of perfection. Here depending which metric we are aiming to maximimize, we can choose the threshold according to that. If we have no preference for recall or precision, We can also calculate the f1-score for each threshold and make a selection according to that."
      ],
      "metadata": {
        "id": "bMSbz_D94JZj"
      }
    },
    {
      "cell_type": "code",
      "source": [
        "f1_score = (2 * precision_vals * recall_vals) / (precision_vals + recall_vals)\n",
        "\n",
        "f1_score"
      ],
      "metadata": {
        "colab": {
          "base_uri": "https://localhost:8080/"
        },
        "id": "OFgqmdTgddyl",
        "outputId": "d9e662e4-f7d8-4ca8-bb81-c985e04bf0d3"
      },
      "execution_count": null,
      "outputs": [
        {
          "output_type": "execute_result",
          "data": {
            "text/plain": [
              "array([0.96598639, 0.95890411, 0.96551724, 0.97222222, 0.97902098,\n",
              "       0.97183099, 0.9787234 , 0.98571429, 0.97841727, 0.97101449,\n",
              "       0.96350365, 0.95588235, 0.94814815, 0.94029851, 0.93233083,\n",
              "       0.92424242, 0.91603053, 0.90769231, 0.89922481, 0.890625  ,\n",
              "       0.88188976, 0.87301587, 0.864     , 0.85483871, 0.84552846,\n",
              "       0.83606557, 0.82644628, 0.81666667, 0.80672269, 0.79661017,\n",
              "       0.78632479, 0.77586207, 0.76521739, 0.75438596, 0.74336283,\n",
              "       0.73214286, 0.72072072, 0.70909091, 0.69724771, 0.68518519,\n",
              "       0.6728972 , 0.66037736, 0.64761905, 0.63461538, 0.62135922,\n",
              "       0.60784314, 0.59405941, 0.58      , 0.56565657, 0.55102041,\n",
              "       0.53608247, 0.52083333, 0.50526316, 0.4893617 , 0.47311828,\n",
              "       0.45652174, 0.43956044, 0.42222222, 0.40449438, 0.38636364,\n",
              "       0.36781609, 0.34883721, 0.32941176, 0.30952381, 0.28915663,\n",
              "       0.26829268, 0.24691358, 0.225     , 0.20253165, 0.17948718,\n",
              "       0.15584416, 0.13157895, 0.10666667, 0.08108108, 0.05479452,\n",
              "       0.02777778, 0.        ])"
            ]
          },
          "metadata": {},
          "execution_count": 4
        }
      ]
    },
    {
      "cell_type": "code",
      "source": [
        "import numpy as np\n",
        "ix = np.argmax(f1_score)\n",
        "print('Best Threshold=%f, F1-Score=%.3f' % (thresholds[ix], f1_score[ix]))"
      ],
      "metadata": {
        "colab": {
          "base_uri": "https://localhost:8080/"
        },
        "id": "P-w8pyxA_fTT",
        "outputId": "a95d5688-5ce6-40cd-fefc-4e3bd8a28dcd"
      },
      "execution_count": null,
      "outputs": [
        {
          "output_type": "stream",
          "name": "stdout",
          "text": [
            "Best Threshold=0.851244, F1-Score=0.986\n"
          ]
        }
      ]
    },
    {
      "cell_type": "markdown",
      "source": [
        "##ROC Curve (Receiver Operating Characteristic Curve)\n",
        "\n",
        " A ROC curve is a plot indicating the performance of a classification model for different classification thresholds by plotting True Positive Rate (Recall) against the False Positive Rate (FPR). It has a similar idea to PR Curve but we plot the FPR instead of precision in this curve.\n",
        "\n",
        " $$ \\text{FPR} = \\frac{\\text{FP}}{FP + TN} $$\n"
      ],
      "metadata": {
        "id": "kTPNYA7FncMw"
      }
    },
    {
      "cell_type": "markdown",
      "source": [
        "To plot the ROC-curve for a classifier, we will be using the roc_curve() function from the sklearn library.\n",
        "\n",
        "\n",
        "\n",
        "[Documentation for roc_curve()](https://scikit-learn.org/stable/modules/generated/sklearn.metrics.roc_curve.html)"
      ],
      "metadata": {
        "id": "WQea4tLyrDk2"
      }
    },
    {
      "cell_type": "code",
      "source": [
        "from sklearn.metrics import roc_curve\n",
        "fpr, tpr, thresholds = roc_curve(y_test, probabilities)\n",
        "\n",
        "plt.plot( fpr, tpr,  label = 'ROC Curve', marker='o')\n",
        "for i,val in enumerate(tpr):\n",
        "    plt.text(fpr[i], val, str(round(thresholds[i],3)), fontsize=10)\n",
        "plt.xlabel('FPR')\n",
        "plt.ylabel('TPR')\n",
        "plt.legend(loc = 'best')\n",
        "plt.show()"
      ],
      "metadata": {
        "colab": {
          "base_uri": "https://localhost:8080/",
          "height": 279
        },
        "id": "UKnxqDUaILhJ",
        "outputId": "6ce093a5-592c-48bc-d120-6682f208f742"
      },
      "execution_count": null,
      "outputs": [
        {
          "output_type": "display_data",
          "data": {
            "text/plain": [
              "<Figure size 432x288 with 1 Axes>"
            ],
            "image/png": "[encoded data removed]"
          },
          "metadata": {
            "needs_background": "light"
          }
        }
      ]
    },
    {
      "cell_type": "markdown",
      "source": [
        "By lowering the classification threshold, more predictions are identified as positive. This increases both false positivi and true positive rates. Therefore, the curve looks different to that of a PR curve. \n",
        "\n",
        "In ROC curve, we are looking for the ideal point which is closest to the top left corner. Having a number to estimate how close our curve is to the top left corner would be useful right? Area Under the Curve (AUC) is another method which can help us here."
      ],
      "metadata": {
        "id": "r_cTfnWWLLKd"
      }
    },
    {
      "cell_type": "markdown",
      "source": [
        "## Area Under the Curve (AUC)\n",
        "\n",
        "AUC / Area Under the Curve is the entire two dimensional area under the ROC curve. AUC helps us summarise the information from a ROC curve (can also be used for PR curve) into a single value.\n",
        "\n",
        "ROC curve is basically a curve of probabilities (threholds) and AUC basically is the measure of separability of the calsses. It tells us how well the model is able to predict the classes. Therefore, a higher AUC value means a better classifier. AUC value varies between 0 and 1, meaning a value of 1 would mean a perfect classifier."
      ],
      "metadata": {
        "id": "FsQvz57rM4Yg"
      }
    },
    {
      "cell_type": "markdown",
      "source": [
        "To calculate the AUC score for roc, we will use the roc_auc_score() function from sklearn library.\n",
        "\n",
        "\n",
        "\n",
        "[Documentation for roc_auc_score()](https://scikit-learn.org/stable/modules/generated/sklearn.metrics.roc_auc_score.html)\n",
        "\n",
        "Before continuing, let's plot our ROC-curve again to examine the area under the curve visually."
      ],
      "metadata": {
        "id": "TmlOasHqrSoQ"
      }
    },
    {
      "cell_type": "code",
      "source": [
        "plt.plot( fpr, tpr,  label = 'ROC curve')\n",
        "plt.fill_between(fpr, tpr, alpha=0.3)\n",
        "plt.xlabel('FPR')\n",
        "plt.ylabel('TPR')\n",
        "plt.legend(loc = 'best')\n",
        "plt.grid()\n",
        "plt.show()"
      ],
      "metadata": {
        "colab": {
          "base_uri": "https://localhost:8080/",
          "height": 279
        },
        "id": "xpKHi9xrrDrb",
        "outputId": "87f33e5c-3222-4131-c6bf-c83330aab1a2"
      },
      "execution_count": null,
      "outputs": [
        {
          "output_type": "display_data",
          "data": {
            "text/plain": [
              "<Figure size 432x288 with 1 Axes>"
            ],
            "image/png": "[encoded data removed]"
          },
          "metadata": {
            "needs_background": "light"
          }
        }
      ]
    },
    {
      "cell_type": "markdown",
      "source": [
        "\n",
        "\n",
        "\n",
        "A classifier model which can not discriminate between the two classes (a no-skill classifier) would predict the most frequent occuring class or a random class for all predictions and it would have an AUC of 0.5. Its ROC curve would be a diagonal line as below. A classifier which predicts wrong all the time (0% correct prediction) would look exactly opposite of the best curve."
      ],
      "metadata": {
        "id": "OeGmDM8KNLij"
      }
    },
    {
      "cell_type": "code",
      "source": [
        "from sklearn.metrics import roc_curve\n",
        "\n",
        "pnt_1 = [0, 1]\n",
        "pnt_2 = [0, 1]\n",
        "fpr, tpr, thresholds = roc_curve(y_test, probabilities)\n",
        "plt.plot( fpr, tpr,  label = 'ROC curve for DecisionTree')\n",
        "plt.plot( pnt_1, pnt_2,  label = 'ROC curve for AUC=0.5', color='r')\n",
        "plt.fill_between( pnt_1, pnt_2, alpha=0.3, facecolor='r')\n",
        "plt.axvline(x=1,ymin=0.05, ymax=0.95, color='r', linestyle='--', label=\"ROC curve for AUC=0.0\")\n",
        "plt.axhline(y=0, xmin=0.05, xmax=0.95, color='r', linestyle='--')\n",
        "plt.xlabel('FPR')\n",
        "plt.ylabel('TPR')\n",
        "plt.legend(loc = 'best')\n",
        "plt.show()"
      ],
      "metadata": {
        "colab": {
          "base_uri": "https://localhost:8080/",
          "height": 279
        },
        "id": "n78J5F-cNqmi",
        "outputId": "73bcb4e1-54b3-4fd5-b4c9-8c9a283e2de0"
      },
      "execution_count": null,
      "outputs": [
        {
          "output_type": "display_data",
          "data": {
            "text/plain": [
              "<Figure size 432x288 with 1 Axes>"
            ],
            "image/png": "[encoded data removed]"
          },
          "metadata": {
            "needs_background": "light"
          }
        }
      ]
    },
    {
      "cell_type": "markdown",
      "source": [
        "We can use the roc_auc_score function from the sklearn library to calculate the ROC AUC score for the plot above"
      ],
      "metadata": {
        "id": "v95H_a4XAJaH"
      }
    },
    {
      "cell_type": "code",
      "source": [
        "from sklearn.metrics import roc_auc_score\n",
        "\n",
        "roc_auc_score(y_test, probabilities)"
      ],
      "metadata": {
        "colab": {
          "base_uri": "https://localhost:8080/"
        },
        "id": "ZW2usT6FABRc",
        "outputId": "41a80656-b11c-4964-d4fb-ef84d7b502ca"
      },
      "execution_count": null,
      "outputs": [
        {
          "output_type": "execute_result",
          "data": {
            "text/plain": [
              "0.9977071732721913"
            ]
          },
          "metadata": {},
          "execution_count": 9
        }
      ]
    },
    {
      "cell_type": "markdown",
      "source": [
        "\n",
        "\n",
        "\n",
        "Advantages:\n",
        "\n",
        "*   AUC is invariant to scale. It is a measure of how good the predictions are ranked, rather than their absolute values.\n",
        "*   AUC is invariant to classification-threshold. It is a measure of the model's performance (correctness of predictions) irrespective of the classification threshold chosen.\n",
        "\n",
        "Disadvantages:\n",
        "\n",
        "*   Invariance to scale is not always wanted. Sometimes we need the well adapted oribability outputs.\n",
        "*   Invariance to threshold is not always wanted as well. When there are big differences in terms of false negatives and false positives, we may want to aim to minimize only one of these. For example, in out cancer example previously, we mentioned how important it is to minimize the false negatives. In this case, AUC will not be a usefull metric.\n",
        "\n"
      ],
      "metadata": {
        "id": "D_ykFBNZBJRw"
      }
    },
    {
      "cell_type": "markdown",
      "source": [
        "\n",
        "\n",
        "## PR Curve vs ROC Curve\n",
        "*  ROC curves are suitable when we are dealing with more of a balanced dataset, whereas PR curves are suitable for imbalanced datasets.\n",
        "\n",
        "*   The PR cuve does not consider the true negatives, therefore it is a useful metric when we have an imbalanced dataset, if the negative class is the majority class, considering making correct negative predictions are not that critical for the problem.\n",
        "*   Since ROC curve also takes the true negatives into consideration, it is a better metric to use if the when also the negative class is important (when both TP and TN are important).\n",
        "\n"
      ],
      "metadata": {
        "id": "M0CYKYFTNFX1"
      }
    },
    {
      "cell_type": "code",
      "source": [],
      "metadata": {
        "id": "YIdHxzHY2qJq"
      },
      "execution_count": null,
      "outputs": []
    }
  ]
}