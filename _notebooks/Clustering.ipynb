{
  "nbformat": 4,
  "nbformat_minor": 0,
  "metadata": {
    "colab": {
      "provenance": [],
      "toc_visible": true
    },
    "kernelspec": {
      "name": "python3",
      "display_name": "Python 3"
    },
    "language_info": {
      "name": "python"
    }
  },
  "cells": [
    {
      "cell_type": "markdown",
      "source": [
        "# Unsupervised Learning\n",
        "> In this tutorial, we are going to have a look at how we can use unsupervised learning when we have unlabeled data.\n",
        "\n",
        "- toc: true\n",
        "- badges: true\n",
        "- comments: true\n",
        "- categories: [jupyter]\n",
        "- image: images/clustering_.PNG"
      ],
      "metadata": {
        "id": "lKDS_LzzWOFi"
      }
    },
    {
      "cell_type": "markdown",
      "source": [
        "\n",
        "\n",
        "\n",
        "\n",
        "Unsupervised Learning is the use of algortihms to extract and identify patterns and information from the data which is not labelled. Difference of unsupervised learning in comparison to supervised learning is that we do not tell the algorithm which input data results in which target/output but we provide the algorithm the data as a whole and allow the algorithm to identify patterns in the data on its own."
      ],
      "metadata": {
        "id": "-oX-iWTfXItN"
      }
    },
    {
      "cell_type": "markdown",
      "source": [
        "# Clustering\n",
        "\n",
        "Clustering is the most often used technique for unsupervised learning. Clustering groups the data points which are similar to each other in terms of the features of the data. \n",
        "\n",
        "![Clustering](https://drive.google.com/uc?export=view&id=1lUk3fBO0O-heKHmmi9xjTZcIZ_lCn6ux)\n",
        "\n",
        "There are many clustering types available; centroid model, connectivity model, distribution model, density model etc. We will be focusing on the mostly used three categories:\n",
        "\n",
        "\n",
        "*   **Centroid model:** This type of clustering is an iterative process where the similarity of the data points are based on the distance to the centroid of the clusters in one or multidimensional space. One very popular model which falls under this category is the K-means clustering.\n",
        "\n",
        "*   **Connectivity model:** In this types of model the data points are considered more similar to nearby points in comparison than those farther away. These models can be either agglomerative or divisive. In the agglomerative approach, all data points are grouped into many clusters and then these clusters are merged into bigger ones with respect to the distances between them. In the divisive approach, all the data points are grouped into one cluster and then divided into smaller clusters with increasing distance. Hierarchical clustering is a well known and popular example for this model. This model does not handle large datasets very well.\n",
        "\n",
        "*   **Density model:** This type of models cluster the data points in one or multidimensional space based on determining areas of higher density (high number of data points in a small space) compared to the rest of the data. One often used example is DBSCAN.\n",
        "\n",
        "\n"
      ],
      "metadata": {
        "id": "LnXk9bwvcTyk"
      }
    },
    {
      "cell_type": "markdown",
      "source": [
        "## Distance Measures\n",
        "\n",
        "Until now we have discussed how clustering groups similar data points together. This is done by using different types of distance measures to determine if the data points are similar. Smaller distance between data points means more similar data points. Which distance measure to use depends very much on the type of data and problem that we are dealing with and it is an important factor. THe most used distance measures are:\n",
        "\n",
        "\n",
        "*   Eucledian distance\n",
        "*   Manhattan distance\n",
        "\n",
        "Where Eucledian distance is usually the default distance measure for most of the clustering models. We have already seen how these distance measures work in k Nearest Neighbors section. Therefore, we will not go into detail again. However, we can calculate the Eucledian distances for a simple example so that the concept is clear. Below is an example dataset containing three samples and their three features (F1, F2, F3):\n",
        "\n",
        "|          | F1 | F2 | F3 |\n",
        "|----------|----|----|----|\n",
        "| Sample 1 | 0  | 1  | 1  |\n",
        "| Sample 2 | 2  | 4  | 0  |\n",
        "| Sample 3 | 1  | 0  | 2  |\n",
        "\n",
        "Remembering the formula for Eucledian distance between two points, where x_i represents the feature of x for every sample i, and y_i represents the feature of y for every sample i:\n",
        "\n",
        "$$ \\sqrt{\\sum\\limits_{i=1}^{l}({x_i-y_i})^2} $$\n",
        "\n",
        "\n",
        "$$ d(sample_1, sample_2) = \\sqrt{\\sum\\limits_{i=1}^{3}({\\Delta_{sample_1,sample_2}F_i})^2} $$\n",
        "\n",
        "$$ d(sample_1, sample_2) = \\sqrt{(0-2)^2 + (1-4)^2 + (1-0)^2} = \\sqrt{14} $$\n",
        "$$ d(sample_1, sample_3) = \\sqrt{(0-1)^2 + (1-0)^2 + (1-2)^2} = \\sqrt{3} $$\n",
        "$$ d(sample_2, sample_3) = \\sqrt{(2-1)^2 + (4-0)^2 + (0-2)^2} = \\sqrt{21} $$\n",
        "\n",
        "The resulting distance matrix becomes:\n",
        "\n",
        "|          | Sample 1 | Sample 2 | Sample 3 |\n",
        "|----------|----------|----------|----------|\n",
        "| Sample 1 |    $$0$$ |$$\\sqrt{14}$$| $$\\sqrt{3}$$ |\n",
        "| Sample 2 |$$\\sqrt{14}$$|$$0$$     | $$\\sqrt{21}$$|\n",
        "| Sample 3 | $$\\sqrt{3}$$|$$\\sqrt{21}$$| $$0$$     |\n",
        "\n",
        "Have you realised that diagonal is always zero and we ended up with a symmetric matrix? Well that is due to the way we calculate the distance with the Eucledian measure. The distance of a point to itself is always zero (diagonal) and the distance between sample 1 to sample 2 is same as sample 2 to sample 1 (symmetric) which makes very much sense...\n",
        "\n",
        "In addition there are also correlation based distance measures such as Pearson correlation distance, Eisen cosine correlation distance, Spearman correlation distance and Kendall correlation distance. As the name already expresses, these measures consider two data points to be similar if their features are highly correlated. That means two data points having highly correlated features can be clustered together even if their eucledian distance is large. We will not go into detail for correlation based distances but keep in mind that Pearson's correlation is sensitive to outlier data. With datasets containing outliers a better option might be Spearman's correlation."
      ],
      "metadata": {
        "id": "56fdkmVg_G7W"
      }
    },
    {
      "cell_type": "markdown",
      "source": [
        "## Connectivity model: Hierarchical Clustering\n",
        "\n",
        "As the name suggests, hierarchical clustering creates a hierarchy between the clusters. It does this by first assigning a cluster to every data point (for a dataset with size n, we get n clusters) and then the two nearest(most similar) clusters are merged together to form a new larger cluster. This merging of clusters continues iteratively until there is one whole cluster left. This way, the algorithm builds a hierarchy of clusters, thus hierarchical clustering.\n",
        "\n",
        "There are two main types of hierarchical clustering:\n",
        "\n",
        "\n",
        "*   Agglomerative hierarchical clustering\n",
        "*   Divisive hierarchical clustering\n",
        "\n",
        "### Agglomerative Hierarchical Clustering\n",
        "\n",
        "In Agglomerative hierarchical clustering the clustering starts with a cluster for every data point. Then, the nearest (most similar) pair of clusters are merged together. This merging process is done iteratively until there is only one big cluster left.\n",
        "\n",
        "![Agglomerative Hierarchical Clustering](https://drive.google.com/uc?export=view&id=1E8b_I2NjxzChNcCVoWzEUA2gN-DzolGb)\n",
        "\n",
        "### Divisive Hierarchical Clustering\n",
        "\n",
        "Divisive Hierarchical Clustering works the other way around. It starts with one cluster and assigns all the data points to that cluster. Afterwards, we split the farthest points in the cluster to seperate clusters. This splitting process is done iteratively until every cluster has one data point only.\n",
        "\n",
        "![Divisive Hierarchical Clustering](https://drive.google.com/uc?export=view&id=1Sn5wdrO7QKTve_clV64M8TlgU8eJ7hcJ)"
      ],
      "metadata": {
        "id": "J4Ys7K7SJ4TV"
      }
    },
    {
      "cell_type": "markdown",
      "source": [
        "Let's perform hierarchical clustering on iris dataset from sklearn:"
      ],
      "metadata": {
        "id": "aQyTscs_0q-s"
      }
    },
    {
      "cell_type": "code",
      "execution_count": null,
      "metadata": {
        "id": "DSBYv3OSWWd-"
      },
      "outputs": [],
      "source": [
        "from sklearn.datasets import load_iris\n",
        "\n",
        "iris_data = load_iris()"
      ]
    },
    {
      "cell_type": "markdown",
      "source": [
        "Checking the features in our dataset, we can see that we have four features for each flower: sepal length, sepal width, petal length, petal width"
      ],
      "metadata": {
        "id": "l9CXBWZe1g4U"
      }
    },
    {
      "cell_type": "code",
      "source": [
        "iris_data.feature_names"
      ],
      "metadata": {
        "colab": {
          "base_uri": "https://localhost:8080/"
        },
        "id": "UQyjEJQ_1DGx",
        "outputId": "ee274ca6-af68-45a2-def5-c5e2f1713261"
      },
      "execution_count": null,
      "outputs": [
        {
          "output_type": "execute_result",
          "data": {
            "text/plain": [
              "['sepal length (cm)',\n",
              " 'sepal width (cm)',\n",
              " 'petal length (cm)',\n",
              " 'petal width (cm)']"
            ]
          },
          "metadata": {},
          "execution_count": 4
        }
      ]
    },
    {
      "cell_type": "markdown",
      "source": [
        "Checking the target names, the flowers are classified into three different classes: setosa, versicolor, virginica. Don't get confused, we will not use the target names since we are dealing which clustering(unsupervised learning) here. This is just to give us a better understand of the dataset..."
      ],
      "metadata": {
        "id": "FDnApwG82DJ6"
      }
    },
    {
      "cell_type": "code",
      "source": [
        "iris_data.target_names"
      ],
      "metadata": {
        "colab": {
          "base_uri": "https://localhost:8080/"
        },
        "id": "splICy0w1WYP",
        "outputId": "61b24949-c046-4913-8af2-4757f2684437"
      },
      "execution_count": null,
      "outputs": [
        {
          "output_type": "execute_result",
          "data": {
            "text/plain": [
              "array(['setosa', 'versicolor', 'virginica'], dtype='<U10')"
            ]
          },
          "metadata": {},
          "execution_count": 5
        }
      ]
    },
    {
      "cell_type": "code",
      "source": [
        "data = iris_data.data"
      ],
      "metadata": {
        "id": "hxU_APuODJYO"
      },
      "execution_count": null,
      "outputs": []
    },
    {
      "cell_type": "markdown",
      "source": [
        "### Dendrograms\n",
        "\n",
        "Dendrograms are diagrams which are very helpful in visualising the hierarchical clustering structure. We can create a dendrogram to visualize the hierarchical clustering structure for the iris dataset:\n"
      ],
      "metadata": {
        "id": "Fk1VvfUc2tzq"
      }
    },
    {
      "cell_type": "code",
      "source": [
        "from scipy.cluster.hierarchy import dendrogram, linkage, fcluster\n",
        "import matplotlib.pyplot as plt\n",
        "# generate the linkage matrix\n",
        "Z = linkage(data, method='complete') #method as 'complete' is also known by the Farthest Point Algorithm\n",
        "\n",
        "\n",
        "plt.figure(figsize=(25, 10))\n",
        "plt.title('Hierarchical Clustering Dendrogram for Iris Dataset')\n",
        "plt.xlabel('Species')\n",
        "plt.ylabel('Distance')\n",
        "dendrogram(\n",
        "    Z,\n",
        "    #truncate_mode='lastp',  # show only the last p merged clusters\n",
        "    #p=150,                  #\n",
        "    leaf_rotation=90.,      # rotates the x axis labels\n",
        "    leaf_font_size=8.,      # font size for the x axis labels\n",
        ")\n",
        "max_d = 3.3                # max_d as in max_distance\n",
        "plt.axhline(y=max_d, c='k')\n",
        "plt.show()"
      ],
      "metadata": {
        "colab": {
          "base_uri": "https://localhost:8080/",
          "height": 563
        },
        "id": "A4MNoUZP1HYz",
        "outputId": "51b81e29-8b4c-4647-d062-8c10df4e62af"
      },
      "execution_count": null,
      "outputs": [
        {
          "output_type": "display_data",
          "data": {
            "image/png": "[encoded data removed]",
            "text/plain": [
              "<Figure size 1800x720 with 1 Axes>"
            ]
          },
          "metadata": {
            "needs_background": "light"
          }
        }
      ]
    },
    {
      "cell_type": "markdown",
      "source": [
        "Flatten the hierarchical cluster that we have obtained from linkage using the fcluster (flat cluster) with our number of cluster selection equals to three. We can assign the cluster as a new column to the dataframe. But before that we need to convert our data to a dataframe..."
      ],
      "metadata": {
        "id": "T3wsdPwVWO2h"
      }
    },
    {
      "cell_type": "code",
      "source": [
        "clusters = fcluster(Z,3, criterion='maxclust')\n",
        "print(clusters)"
      ],
      "metadata": {
        "id": "58eIut3RJRvr",
        "colab": {
          "base_uri": "https://localhost:8080/"
        },
        "outputId": "5398cf3c-f70f-41ca-d7c5-2b1faceec406"
      },
      "execution_count": null,
      "outputs": [
        {
          "output_type": "stream",
          "name": "stdout",
          "text": [
            "[3 3 3 3 3 3 3 3 3 3 3 3 3 3 3 3 3 3 3 3 3 3 3 3 3 3 3 3 3 3 3 3 3 3 3 3 3\n",
            " 3 3 3 3 3 3 3 3 3 3 3 3 3 1 1 1 2 1 2 1 2 1 2 2 2 2 1 2 1 2 2 1 2 1 2 1 1\n",
            " 1 1 1 1 1 2 2 2 2 1 2 1 1 1 2 2 2 1 2 2 2 2 2 1 2 2 1 1 1 1 1 1 2 1 1 1 1\n",
            " 1 1 1 1 1 1 1 1 1 1 1 1 1 1 1 1 1 1 1 1 1 1 1 1 1 1 1 1 1 1 1 1 1 1 1 1 1\n",
            " 1 1]\n"
          ]
        }
      ]
    },
    {
      "cell_type": "code",
      "source": [
        "plt.scatter(data[clusters == 1, 0], data[clusters == 1, 1], label = 'Type 1')\n",
        "plt.scatter(data[clusters == 2, 0], data[clusters == 2, 1], label = 'Type 2')\n",
        "plt.scatter(data[clusters == 3, 0], data[clusters == 3, 1], label = 'Type 3')\n",
        "plt.title('Clusters')\n",
        "plt.show()"
      ],
      "metadata": {
        "colab": {
          "base_uri": "https://localhost:8080/",
          "height": 281
        },
        "id": "1RVm3ai6X6uy",
        "outputId": "9e4d15f1-6d6d-4853-aada-62660e8784ce"
      },
      "execution_count": null,
      "outputs": [
        {
          "output_type": "display_data",
          "data": {
            "image/png": "[encoded data removed]",
            "text/plain": [
              "<Figure size 432x288 with 1 Axes>"
            ]
          },
          "metadata": {
            "needs_background": "light"
          }
        }
      ]
    },
    {
      "cell_type": "markdown",
      "source": [
        "Now we know that three clusters would be a good decision for clustering the iris data. We can use the AgglomerativeClustering model with 3 clusters and compare the results to the target data we have. Since we use the same linkage method, we expect to get the same clustering results as the dendrogram"
      ],
      "metadata": {
        "id": "xH3BrOjbVbNr"
      }
    },
    {
      "cell_type": "code",
      "source": [
        "from sklearn.cluster import AgglomerativeClustering \n",
        "classifier = AgglomerativeClustering(n_clusters = 3, affinity = 'euclidean', linkage = 'complete') \n",
        "clusters = classifier.fit_predict(data)"
      ],
      "metadata": {
        "id": "PoHp6LrpNvdj"
      },
      "execution_count": null,
      "outputs": []
    },
    {
      "cell_type": "markdown",
      "source": [
        "Using the clusters we have obtained from AgglomerativeClustering model, we can plot the first two features as a scatter plot and compare it to the scatter plot of the target data from the dataset."
      ],
      "metadata": {
        "id": "bLF-JZ1bZFM9"
      }
    },
    {
      "cell_type": "code",
      "source": [
        "plt.scatter(data[clusters == 0, 0], data[clusters == 0, 1], label = 'Type 1')\n",
        "plt.scatter(data[clusters == 1, 0], data[clusters == 1, 1], label = 'Type 2')\n",
        "plt.scatter(data[clusters == 2, 0], data[clusters == 2, 1], label = 'Type 3')\n",
        "plt.title('Clusters')\n",
        "plt.show()"
      ],
      "metadata": {
        "colab": {
          "base_uri": "https://localhost:8080/",
          "height": 281
        },
        "id": "zlmAWDoEQYpP",
        "outputId": "3584b38a-dc88-427d-df26-def50bd9c6cd"
      },
      "execution_count": null,
      "outputs": [
        {
          "output_type": "display_data",
          "data": {
            "image/png": "[encoded data removed]",
            "text/plain": [
              "<Figure size 432x288 with 1 Axes>"
            ]
          },
          "metadata": {
            "needs_background": "light"
          }
        }
      ]
    },
    {
      "cell_type": "code",
      "source": [
        "y=iris_data.target\n",
        "plt.scatter(data[y == 0, 0], data[y == 0, 1], label = 'Type 1')\n",
        "plt.scatter(data[y == 1, 0], data[y == 1, 1], label = 'Type 2')\n",
        "plt.scatter(data[y == 2, 0], data[y == 2, 1], label = 'Type 3')"
      ],
      "metadata": {
        "colab": {
          "base_uri": "https://localhost:8080/",
          "height": 286
        },
        "id": "ayKVR7RpRMVv",
        "outputId": "84cf841f-02d2-4533-c636-13f934a2e169"
      },
      "execution_count": null,
      "outputs": [
        {
          "output_type": "execute_result",
          "data": {
            "text/plain": [
              "<matplotlib.collections.PathCollection at 0x7fc36fefaa10>"
            ]
          },
          "metadata": {},
          "execution_count": 12
        },
        {
          "output_type": "display_data",
          "data": {
            "image/png": "[encoded data removed]",
            "text/plain": [
              "<Figure size 432x288 with 1 Axes>"
            ]
          },
          "metadata": {
            "needs_background": "light"
          }
        }
      ]
    },
    {
      "cell_type": "markdown",
      "source": [
        "We have obtained a very similar clustering in comparison to the classification in the data except for a few data points. This way we were able to group similar species together using their features. "
      ],
      "metadata": {
        "id": "2lfr8iFwZb2v"
      }
    },
    {
      "cell_type": "markdown",
      "source": [
        "## Centroid Model: K-means Clustering\n",
        "\n",
        "K-means clustering clustering is an iterative process where the similarity of the data points are based on the distance to the centroid of the clusters in one or multidimensional space. The algorithm partitions the data into K clusters where a data point in only in one cluster. The aim is to collect as similar as possible data points in one cluster while keeping the cluster as farther as possible. Algorithm does this by making sure that the sum of the squared distance between the datapoints and the cluster's centroid is minimum by minimizing the function known as squared error function:\n",
        "\n",
        "$$ J(v) = \\sum\\limits_{i=1}^{k} \\sum\\limits_{j=1}^{c_i}{||x_i-v_j||^2} $$\n",
        "\n",
        "where:\n",
        "\n",
        "$ ||x_i-v_j||^2 $= Euclidean distance between two pints x_i and v_j \n",
        "\n",
        "$ c_i $ = number of data points in cluster i\n",
        "\n",
        "$ k $ = number of centroids\n",
        "\n",
        "To sum up the process of the algorithm:\n",
        "\n",
        "\n",
        "1.   Initialize K cluster centroids: Select K data points by random sampling without replacement\n",
        "2.   Calculate the centroid of the clusters:\n",
        "\n",
        " $$  v_i = \\sum\\limits_{j=1}^{k}{\\frac{x_j}{c_i}} $$\n",
        "3.   Calculate the sum of the squared distances between the data points and all cluster centroids\n",
        "4.   Relocate the data points to the closest centroid\n",
        "5.   Recalculate the centroid of the clusters which were changed\n",
        "\n",
        "6.   Continue step 3-5 until no further changes in the clusters occur\n",
        "\n",
        "\n",
        "\n"
      ],
      "metadata": {
        "id": "shqjZzv2Zvwn"
      }
    },
    {
      "cell_type": "code",
      "source": [
        "from sklearn.cluster import KMeans\n",
        "import pandas as pd\n",
        "\n",
        "kmeans = KMeans(n_clusters=3,init = 'k-means++',   max_iter = 100, n_init = 10, random_state = 0) #Applying Kmeans classifier\n",
        "clusters = kmeans.fit_predict(data)\n",
        "plt.scatter(data[clusters == 0, 0], data[clusters == 0, 1], label = 'Type 1')\n",
        "plt.scatter(data[clusters == 1, 0], data[clusters == 1, 1], label = 'Type 2')\n",
        "plt.scatter(data[clusters == 2, 0], data[clusters == 2, 1], label = 'Type 3')\n",
        "plt.title('Clusters')\n",
        "plt.show()"
      ],
      "metadata": {
        "id": "ZTpJMK6hU9H-",
        "colab": {
          "base_uri": "https://localhost:8080/",
          "height": 281
        },
        "outputId": "764706c4-7592-4c56-b39f-ea3309e8655a"
      },
      "execution_count": null,
      "outputs": [
        {
          "output_type": "display_data",
          "data": {
            "image/png": "[encoded data removed]",
            "text/plain": [
              "<Figure size 432x288 with 1 Axes>"
            ]
          },
          "metadata": {
            "needs_background": "light"
          }
        }
      ]
    },
    {
      "cell_type": "markdown",
      "source": [
        "### Elbow Method: Finding the best K\n",
        "\n",
        "The elbow method is a good way to find an ideal K value (number of clusters). Unlike hierarchical clustering, this is an important point because we have to define a good number of clusters to obtain good results with K-Means clustering where we need a predefined K value. \n",
        "\n",
        "Elbow method works buy plotting the sum of squared distances with respect to the numbers of clusters (K). The ideal K numbers would be where the curve starts to flatten out (where it forms an elbow)."
      ],
      "metadata": {
        "id": "GSCYHm5jNxpe"
      }
    },
    {
      "cell_type": "code",
      "source": [
        "k_values = list(range(1, 10)) # define the range of K values that we want to examine\n",
        "\n",
        "sum_sq_dist = []\n",
        "for k in k_values:\n",
        "    k_m = KMeans(n_clusters=k)\n",
        "    k_m.fit(data)\n",
        "    sum_sq_dist.append(k_m.inertia_) # inertia_: Sum of squared distances of samples to their closest cluster center\n",
        "\n",
        "# Plot sum squared distances with respect to K\n",
        "plt.figure(figsize=(5, 5))\n",
        "plt.plot(k_values, sum_sq_dist, '-o')\n",
        "plt.xlabel('Number of clusters (K)')\n",
        "plt.ylabel('Sum of squared distances')\n",
        "plt.axvline(x=3, c='r', linestyle='--')"
      ],
      "metadata": {
        "id": "63lnMhnv0Vwl",
        "colab": {
          "base_uri": "https://localhost:8080/",
          "height": 352
        },
        "outputId": "458b57b4-4c50-4558-9d02-71a1fb334662"
      },
      "execution_count": null,
      "outputs": [
        {
          "output_type": "execute_result",
          "data": {
            "text/plain": [
              "<matplotlib.lines.Line2D at 0x7fc36f59e610>"
            ]
          },
          "metadata": {},
          "execution_count": 14
        },
        {
          "output_type": "display_data",
          "data": {
            "image/png": "[encoded data removed]",
            "text/plain": [
              "<Figure size 360x360 with 1 Axes>"
            ]
          },
          "metadata": {
            "needs_background": "light"
          }
        }
      ]
    },
    {
      "cell_type": "markdown",
      "source": [
        "The elbow method also confirms that 3 clusters would be an ideal number. If we did not have a hint about the logical number of clusters from the iris dataset, using the elbow method would be a good idea to determine the ideal number of clusters."
      ],
      "metadata": {
        "id": "1DlRvYWcQ6gG"
      }
    },
    {
      "cell_type": "markdown",
      "source": [
        "## Density Model: DBSCAN\n",
        "\n",
        "In this section, we will talk about Density-based Spatial Clustering of Applications with Noise (DBSCAN). We have talked about K-Means clustering in the previous section. While K-Means clustering is easy to apply, it does not deal well with outliers due to the way it constructs the clusters. It assigns all the points to a cluster in which outliers are also assigned to clusters in which they may not belong. This a big problem for anomaly detection because anomalous points will also be assigned to a cluster and they will also pull the centroid of the clusters towards them, making it even harder to identify them as anomalies.\n",
        "\n",
        "This is where density based clustering run to our help. In comparison to centroid based clustering like K-Means clustering, density based models identify the dense areas of cluster points, making it possible to learn clusters of arbitrary shape and therefore identify outliers/anomalies in the dataset."
      ],
      "metadata": {
        "id": "RVCMstRaXbuJ"
      }
    },
    {
      "cell_type": "markdown",
      "source": [
        "Example for spherical or convex shaped clusters where K-means and hierarchical clustering would work well (well seperated clusters are also visibly identifiable)."
      ],
      "metadata": {
        "id": "9hBamY_TqLNh"
      }
    },
    {
      "cell_type": "code",
      "source": [
        "from sklearn.datasets import make_blobs\n",
        "\n",
        "X, y_true = make_blobs(n_samples=300, centers=4,\n",
        "                       cluster_std=0.6, random_state=0)\n",
        "\n",
        "plt.plot(X[:,0], X[:,1], 'o', markerfacecolor='b',\n",
        "             markeredgecolor='k',\n",
        "             markersize=6)\n"
      ],
      "metadata": {
        "id": "Mwxjn3RiPyJx",
        "colab": {
          "base_uri": "https://localhost:8080/",
          "height": 284
        },
        "outputId": "c4343884-e221-4403-d1f7-a93a9e7f3c10"
      },
      "execution_count": null,
      "outputs": [
        {
          "output_type": "execute_result",
          "data": {
            "text/plain": [
              "[<matplotlib.lines.Line2D at 0x7fc36f5c8f50>]"
            ]
          },
          "metadata": {},
          "execution_count": 15
        },
        {
          "output_type": "display_data",
          "data": {
            "image/png": "[encoded data removed]",
            "text/plain": [
              "<Figure size 432x288 with 1 Axes>"
            ]
          },
          "metadata": {
            "needs_background": "light"
          }
        }
      ]
    },
    {
      "cell_type": "markdown",
      "source": [
        "Example for a dataset with arbitrary shape and a lot of noise:"
      ],
      "metadata": {
        "id": "g50-BACcqBH1"
      }
    },
    {
      "cell_type": "code",
      "source": [
        "from sklearn.datasets import make_moons\n",
        "\n",
        "moons_X, moon_y = make_moons(n_samples = 300, noise= 0.15, random_state=0)\n",
        "plt.plot(moons_X[:,0], moons_X[:,1], 'o', markerfacecolor='b',\n",
        "             markeredgecolor='k',\n",
        "             markersize=6)"
      ],
      "metadata": {
        "colab": {
          "base_uri": "https://localhost:8080/",
          "height": 284
        },
        "id": "_d3JYSqnnyMa",
        "outputId": "fddd79d3-e9ae-4ad5-d933-a097b9bda17e"
      },
      "execution_count": null,
      "outputs": [
        {
          "output_type": "execute_result",
          "data": {
            "text/plain": [
              "[<matplotlib.lines.Line2D at 0x7fc36d4a8b90>]"
            ]
          },
          "metadata": {},
          "execution_count": 16
        },
        {
          "output_type": "display_data",
          "data": {
            "image/png": "[encoded data removed]",
            "text/plain": [
              "<Figure size 432x288 with 1 Axes>"
            ]
          },
          "metadata": {
            "needs_background": "light"
          }
        }
      ]
    },
    {
      "cell_type": "markdown",
      "source": [
        "### Important Parameters\n",
        "\n",
        "DBSCAN algorithm works on two important parameters:\n",
        "\n",
        "**Epsilon (ϵ):** This parameters determines the distance around a data point which defines the neighborhood of that point. If the distance between two points is less than this value, then they will be considered as neighbors. This parameter is important when it comes to determining the outliers. If Epsilon is chosen too small, then most of the data will be considered as outliers. If it is chosen too large, then many clusters will merge together forming a large clusters including majority of the data points. \n",
        "\n",
        "How do we decide which Epsilon value is the best? We can use K-distance graph to find the best value.\n",
        "\n",
        "![Epsilon - Neighborhood](https://drive.google.com/uc?export=view&id=18jMV0adt9Ab7AIDG_4bW3ylAB1yPb0cH)\n",
        "\n",
        "**Minimum number of samples:** This parameters determines the minimum number of datapoints should be inside the neighborhood defined using epsilon value. This parameter should be chosen larger for larger datasets. Generally this parameter can be determined from the number of dimensions (D) in data. It should be larger or equal to dimensionality of the dataset.\n",
        "\n",
        "The three types of data points that exist in this model are:\n",
        "\n",
        "**Core Point:** A data point which has more than the minimum number of samples parameter in its neighborhood.\n",
        "\n",
        "**Border Point**: A data point which has points less than the minimum number of samples parameter within its neighborhood but it is in the epsilon range (neigborhood) of another core point.\n",
        "\n",
        "**Noise / Outlier Point:** A data point which is neither a core point or a border point.\n",
        "\n",
        "In the figure below, we can see that a potential candidate for a core point, can not be a core point when the minimum samples parameter is selected as four. It only has three points (including itself= within its neighborhood and therefore does not meet the threshold requirement. However the point below seems satisfy the requirement with 6 points within its neighborhood.\n",
        "![Diagram to explain point types](https://drive.google.com/uc?export=view&id=1CM6Yz2eMpzbAuWDyYB2riTEa6ukdGVAV)\n",
        "\n",
        "DBSCAN model steps:\n",
        "\n",
        "\n",
        "\n",
        "1.   Select a random data point from the data\n",
        "2.   Determine the number of points within its neighborhood using epsilon. If it is more than than the minimum samples parameter, assign it as a cluster. If less, than as noise/outlier point\n",
        "3.   We add the neighborhood as a part of the cluster. This results in neighborhood of each data point in the cluster also adding to the cluster distance. This way the cluster enlarges with new data points as their neighborhood (epsilon) is also added to the cluster until no further data points can be added to the cluster\n",
        "4.   The steps 2-4 are repeated until all data points have been selected and labeled\n",
        "\n",
        "[Reference](https://www.machinecurve.com/index.php/2020/12/09/performing-dbscan-clustering-with-python-and-scikit-learn/)\n",
        "\n",
        "[Reference](https://www.geeksforgeeks.org/dbscan-clustering-in-ml-density-based-clustering/)\n",
        "\n"
      ],
      "metadata": {
        "id": "g08k4LXRsQAV"
      }
    },
    {
      "cell_type": "code",
      "source": [
        "from sklearn.cluster import DBSCAN\n",
        "db = DBSCAN(eps = 0.2, min_samples=7).fit(moons_X)\n",
        "clusters = db.labels_"
      ],
      "metadata": {
        "id": "F37w4lTEFheU"
      },
      "execution_count": null,
      "outputs": []
    },
    {
      "cell_type": "code",
      "source": [
        "plt.scatter(moons_X[clusters == 0, 0], moons_X[clusters == 0, 1], label = 'Type 1')\n",
        "plt.scatter(moons_X[clusters == 1, 0], moons_X[clusters == 1, 1], label = 'Type 2')\n",
        "plt.scatter(moons_X[clusters == 2, 0], moons_X[clusters == 2, 1], label = 'Type 3')\n",
        "plt.scatter(moons_X[clusters == -1, 0], moons_X[clusters == -1, 1], label = 'Outlier')\n",
        "plt.title('Clusters')\n",
        "plt.show()"
      ],
      "metadata": {
        "id": "ceDKw-EqecaO",
        "colab": {
          "base_uri": "https://localhost:8080/",
          "height": 281
        },
        "outputId": "0aeec859-7f96-461f-beb3-4c4f5361c798"
      },
      "execution_count": null,
      "outputs": [
        {
          "output_type": "display_data",
          "data": {
            "image/png": "[encoded data removed]",
            "text/plain": [
              "<Figure size 432x288 with 1 Axes>"
            ]
          },
          "metadata": {
            "needs_background": "light"
          }
        }
      ]
    },
    {
      "cell_type": "markdown",
      "source": [
        "We have talked enough about the DBSCAN model and its concept. We can use the DBSCAN model from Sklearn to cluster the iris dataset and compare its performance to other clustering algorithms."
      ],
      "metadata": {
        "id": "Av6c0Si5FJNx"
      }
    },
    {
      "cell_type": "code",
      "source": [
        "db = DBSCAN(eps = 0.4, min_samples=4).fit(data) # we can play with the epsion variable and see how choosing a large value creates \n",
        "#                                             a single large cluster and choosing a small value, creates small clusters with many outliers\n",
        "clusters = db.labels_"
      ],
      "metadata": {
        "id": "PCkBfdVZynKG"
      },
      "execution_count": null,
      "outputs": []
    },
    {
      "cell_type": "code",
      "source": [
        "plt.scatter(data[clusters == 0, 0], data[clusters == 0, 1], label = 'Type 1')\n",
        "plt.scatter(data[clusters == 1, 0], data[clusters == 1, 1], label = 'Type 2')\n",
        "plt.scatter(data[clusters == 2, 0], data[clusters == 2, 1], label = 'Type 3')\n",
        "plt.scatter(data[clusters == -1, 0], data[clusters == -1, 1], label = 'Outlier')\n",
        "plt.title('Clusters')\n",
        "plt.show()"
      ],
      "metadata": {
        "colab": {
          "base_uri": "https://localhost:8080/",
          "height": 281
        },
        "id": "EGro98Pmpf8U",
        "outputId": "c8f1b95d-981a-4300-ecac-2ec4bd8de029"
      },
      "execution_count": null,
      "outputs": [
        {
          "output_type": "display_data",
          "data": {
            "image/png": "[encoded data removed]",
            "text/plain": [
              "<Figure size 432x288 with 1 Axes>"
            ]
          },
          "metadata": {
            "needs_background": "light"
          }
        }
      ]
    },
    {
      "cell_type": "markdown",
      "source": [
        "### How to select Epsilon?\n",
        "\n",
        "We can use the K-distance graph which we previously mentioned to find an ideal epsilon value. K-distance graph shows us the distance between each datapoint and its K nearest neigbors. For this we have to calculate the Nearest Neighbors and their distance using the NearestNeighbors from sklearn. The average distances are then plotted against the number of points used to calculate the distance. The most optimal value as epsilon is the distance where the graph has the highest curvature (at the elbow). Looking at the graph we can easily intrepret that this point signals us the point where the density border of the cluster lies. After this point, the average distance increases greatly with fewer number of points, because they lay farther than the rest of the points (potential outliers).\n",
        "\n",
        "This point represents the optimization point where diminishing returns are no longer worth the additional cost. This concept of diminishing returns applies here because while increasing the number of clusters will always improve the fit of the model, it also increases the risk that overfitting will occur.\n",
        "\n",
        "[Reference](https://iopscience.iop.org/article/10.1088/1755-1315/31/1/012012/pdf)\n",
        "\n",
        "Let's calculate the ideal epsilon for iris dataset. We can use the min samples value that we have used as the value for number of neighbors."
      ],
      "metadata": {
        "id": "BEAmtg4Nel4Z"
      }
    },
    {
      "cell_type": "code",
      "source": [
        "from sklearn.neighbors import NearestNeighbors\n",
        "neighbors = NearestNeighbors(n_neighbors=4)\n",
        "neighbors_fit = neighbors.fit(data)\n",
        "distances, indices = neighbors_fit.kneighbors(data)"
      ],
      "metadata": {
        "id": "sa8wP4ch14to"
      },
      "execution_count": null,
      "outputs": []
    },
    {
      "cell_type": "code",
      "source": [
        "import numpy as np\n",
        "distances = np.sort(distances, axis=0)\n",
        "distances = distances[:,1]\n",
        "plt.plot(distances)"
      ],
      "metadata": {
        "colab": {
          "base_uri": "https://localhost:8080/",
          "height": 284
        },
        "id": "zvp93flj31mw",
        "outputId": "02efaa30-578b-4588-80bd-784711aa6fb7"
      },
      "execution_count": null,
      "outputs": [
        {
          "output_type": "execute_result",
          "data": {
            "text/plain": [
              "[<matplotlib.lines.Line2D at 0x7fc36d5154d0>]"
            ]
          },
          "metadata": {},
          "execution_count": 93
        },
        {
          "output_type": "display_data",
          "data": {
            "image/png": "[encoded data removed]",
            "text/plain": [
              "<Figure size 432x288 with 1 Axes>"
            ]
          },
          "metadata": {
            "needs_background": "light"
          }
        }
      ]
    },
    {
      "cell_type": "markdown",
      "source": [
        "As seen, the highest curvature is reached at average distance 0.4, which would also the epsilon which we used previously."
      ],
      "metadata": {
        "id": "NF1a4AQyik38"
      }
    },
    {
      "cell_type": "code",
      "source": [],
      "metadata": {
        "id": "wZYTpM5532ph"
      },
      "execution_count": null,
      "outputs": []
    }
  ]
}